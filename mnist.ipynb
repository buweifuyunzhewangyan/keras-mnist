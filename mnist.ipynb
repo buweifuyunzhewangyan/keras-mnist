{
 "cells": [
  {
   "cell_type": "code",
   "execution_count": 1,
   "metadata": {},
   "outputs": [
    {
     "name": "stderr",
     "output_type": "stream",
     "text": [
      "C:\\Users\\Elane053\\Anaconda3\\lib\\site-packages\\h5py\\__init__.py:36: FutureWarning: Conversion of the second argument of issubdtype from `float` to `np.floating` is deprecated. In future, it will be treated as `np.float64 == np.dtype(float).type`.\n",
      "  from ._conv import register_converters as _register_converters\n",
      "Using TensorFlow backend.\n"
     ]
    },
    {
     "name": "stdout",
     "output_type": "stream",
     "text": [
      "(42000, 28, 28, 1) (28000, 28, 28, 1) (42000, 10)\n"
     ]
    }
   ],
   "source": [
    "#读数据,数据变形\n",
    "import pandas as pd \n",
    "import numpy as np\n",
    "from keras.utils import to_categorical\n",
    "from keras.applications.imagenet_utils import preprocess_input\n",
    "\n",
    "Train = pd.read_csv('train.csv')\n",
    "X_test = pd.read_csv('test.csv').copy()\n",
    "X_train = Train.drop(columns=['label'])\n",
    "y_train = Train['label']\n",
    "\n",
    "X_train = np.array(X_train)\n",
    "X_train = X_train.reshape((42000,28,28,1))\n",
    "\n",
    "X_test = np.array(X_test)\n",
    "X_test = X_test.reshape((28000,28,28,1))\n",
    "\n",
    "X_train = X_train/255\n",
    "X_test = X_test/255\n",
    "#X_train = preprocess_input(np.array(X_train))\n",
    "#X_test = preprocess_input(np.array(X_test))\n",
    "\n",
    "y_train = to_categorical(y_train,num_classes=10)\n",
    "\n",
    "print(X_train.shape,X_test.shape,y_train.shape)"
   ]
  },
  {
   "cell_type": "code",
   "execution_count": 5,
   "metadata": {},
   "outputs": [
    {
     "name": "stdout",
     "output_type": "stream",
     "text": [
      "_________________________________________________________________\n",
      "Layer (type)                 Output Shape              Param #   \n",
      "=================================================================\n",
      "conv2d_4 (Conv2D)            (None, 26, 26, 32)        320       \n",
      "_________________________________________________________________\n",
      "dropout_4 (Dropout)          (None, 26, 26, 32)        0         \n",
      "_________________________________________________________________\n",
      "max_pooling2d_3 (MaxPooling2 (None, 13, 13, 32)        0         \n",
      "_________________________________________________________________\n",
      "conv2d_5 (Conv2D)            (None, 11, 11, 64)        18496     \n",
      "_________________________________________________________________\n",
      "dropout_5 (Dropout)          (None, 11, 11, 64)        0         \n",
      "_________________________________________________________________\n",
      "max_pooling2d_4 (MaxPooling2 (None, 5, 5, 64)          0         \n",
      "_________________________________________________________________\n",
      "conv2d_6 (Conv2D)            (None, 3, 3, 64)          36928     \n",
      "_________________________________________________________________\n",
      "dropout_6 (Dropout)          (None, 3, 3, 64)          0         \n",
      "_________________________________________________________________\n",
      "flatten_2 (Flatten)          (None, 576)               0         \n",
      "_________________________________________________________________\n",
      "dense_3 (Dense)              (None, 64)                36928     \n",
      "_________________________________________________________________\n",
      "dense_4 (Dense)              (None, 10)                650       \n",
      "=================================================================\n",
      "Total params: 93,322\n",
      "Trainable params: 93,322\n",
      "Non-trainable params: 0\n",
      "_________________________________________________________________\n"
     ]
    }
   ],
   "source": [
    "#构建模型\n",
    "from keras.models import Sequential\n",
    "from keras.layers import Dense,Conv2D,Dropout,MaxPooling2D,Flatten\n",
    "from keras.utils import np_utils, to_categorical\n",
    "\n",
    "model = Sequential()\n",
    "model.add(Conv2D(32, (3, 3), activation='relu', input_shape=(28, 28, 1)))\n",
    "model.add(Dropout(0.5))\n",
    "model.add(MaxPooling2D((2, 2)))\n",
    "model.add(Conv2D(64, (3, 3), activation='relu'))\n",
    "model.add(Dropout(0.5))\n",
    "model.add(MaxPooling2D((2, 2)))\n",
    "model.add(Conv2D(64, (3, 3), activation='relu'))\n",
    "model.add(Dropout(0.5))\n",
    "model.add(Flatten())\n",
    "model.add(Dense(64, activation='relu'))\n",
    "model.add(Dense(10, activation='softmax'))\n",
    "model.compile(optimizer='adam',loss='categorical_crossentropy',metrics=['accuracy'])\n",
    "model.summary()"
   ]
  },
  {
   "cell_type": "code",
   "execution_count": 6,
   "metadata": {},
   "outputs": [
    {
     "name": "stdout",
     "output_type": "stream",
     "text": [
      "Train on 37800 samples, validate on 4200 samples\n",
      "Epoch 1/30\n",
      "37800/37800 [==============================] - 120s 3ms/step - loss: 0.4337 - acc: 0.8590 - val_loss: 0.2915 - val_acc: 0.9721\n",
      "Epoch 2/30\n",
      "37800/37800 [==============================] - 116s 3ms/step - loss: 0.1269 - acc: 0.9615 - val_loss: 0.1978 - val_acc: 0.9726\n",
      "Epoch 3/30\n",
      "37800/37800 [==============================] - 119s 3ms/step - loss: 0.0980 - acc: 0.9699 - val_loss: 0.1407 - val_acc: 0.9869\n",
      "Epoch 4/30\n",
      "37800/37800 [==============================] - 117s 3ms/step - loss: 0.0771 - acc: 0.9757 - val_loss: 0.1058 - val_acc: 0.9862\n",
      "Epoch 5/30\n",
      "37800/37800 [==============================] - 135s 4ms/step - loss: 0.0704 - acc: 0.9778 - val_loss: 0.1144 - val_acc: 0.9862\n",
      "Epoch 6/30\n",
      "37800/37800 [==============================] - 125s 3ms/step - loss: 0.0630 - acc: 0.9802 - val_loss: 0.0746 - val_acc: 0.9890\n",
      "Epoch 7/30\n",
      "37800/37800 [==============================] - 124s 3ms/step - loss: 0.0603 - acc: 0.9805 - val_loss: 0.0799 - val_acc: 0.9886\n",
      "Epoch 8/30\n",
      "37800/37800 [==============================] - 121s 3ms/step - loss: 0.0550 - acc: 0.9824 - val_loss: 0.0951 - val_acc: 0.9912\n",
      "Epoch 9/30\n",
      "37800/37800 [==============================] - 121s 3ms/step - loss: 0.0530 - acc: 0.9837 - val_loss: 0.0870 - val_acc: 0.9910\n",
      "Epoch 10/30\n",
      "37800/37800 [==============================] - 117s 3ms/step - loss: 0.0480 - acc: 0.9845 - val_loss: 0.0549 - val_acc: 0.9929\n",
      "Epoch 11/30\n",
      "37800/37800 [==============================] - 121s 3ms/step - loss: 0.0481 - acc: 0.9840 - val_loss: 0.0604 - val_acc: 0.9924\n",
      "Epoch 12/30\n",
      "37800/37800 [==============================] - 129s 3ms/step - loss: 0.0460 - acc: 0.9856 - val_loss: 0.0657 - val_acc: 0.9926\n",
      "Epoch 13/30\n",
      "37800/37800 [==============================] - 122s 3ms/step - loss: 0.0452 - acc: 0.9860 - val_loss: 0.0554 - val_acc: 0.9917\n",
      "Epoch 14/30\n",
      "37800/37800 [==============================] - 118s 3ms/step - loss: 0.0421 - acc: 0.9865 - val_loss: 0.0562 - val_acc: 0.9931\n",
      "Epoch 15/30\n",
      "37800/37800 [==============================] - 121s 3ms/step - loss: 0.0401 - acc: 0.9869 - val_loss: 0.0549 - val_acc: 0.9917\n",
      "Epoch 16/30\n",
      "37800/37800 [==============================] - 122s 3ms/step - loss: 0.0386 - acc: 0.9884 - val_loss: 0.0635 - val_acc: 0.9924\n",
      "Epoch 17/30\n",
      "37800/37800 [==============================] - 121s 3ms/step - loss: 0.0396 - acc: 0.9874 - val_loss: 0.0468 - val_acc: 0.9929\n",
      "Epoch 18/30\n",
      "37800/37800 [==============================] - 120s 3ms/step - loss: 0.0368 - acc: 0.9884 - val_loss: 0.0458 - val_acc: 0.9936\n",
      "Epoch 19/30\n",
      "37800/37800 [==============================] - 113s 3ms/step - loss: 0.0371 - acc: 0.9876 - val_loss: 0.0408 - val_acc: 0.9919\n",
      "Epoch 20/30\n",
      "37800/37800 [==============================] - 117s 3ms/step - loss: 0.0342 - acc: 0.9888 - val_loss: 0.0386 - val_acc: 0.9938\n",
      "Epoch 21/30\n",
      "37800/37800 [==============================] - 123s 3ms/step - loss: 0.0336 - acc: 0.9886 - val_loss: 0.0482 - val_acc: 0.9921\n",
      "Epoch 22/30\n",
      "37800/37800 [==============================] - 123s 3ms/step - loss: 0.0351 - acc: 0.9887 - val_loss: 0.0441 - val_acc: 0.9945\n",
      "Epoch 23/30\n",
      "37800/37800 [==============================] - 121s 3ms/step - loss: 0.0320 - acc: 0.9891 - val_loss: 0.0301 - val_acc: 0.9936\n",
      "Epoch 24/30\n",
      "37800/37800 [==============================] - 113s 3ms/step - loss: 0.0312 - acc: 0.9899 - val_loss: 0.0386 - val_acc: 0.9936\n",
      "Epoch 25/30\n",
      "37800/37800 [==============================] - 114s 3ms/step - loss: 0.0307 - acc: 0.9903 - val_loss: 0.0358 - val_acc: 0.9924\n",
      "Epoch 26/30\n",
      "37800/37800 [==============================] - 113s 3ms/step - loss: 0.0286 - acc: 0.9902 - val_loss: 0.0335 - val_acc: 0.9945\n",
      "Epoch 27/30\n",
      "37800/37800 [==============================] - 113s 3ms/step - loss: 0.0314 - acc: 0.9900 - val_loss: 0.0325 - val_acc: 0.9933\n",
      "Epoch 28/30\n",
      "37800/37800 [==============================] - 113s 3ms/step - loss: 0.0303 - acc: 0.9897 - val_loss: 0.0385 - val_acc: 0.9921\n",
      "Epoch 29/30\n",
      "37800/37800 [==============================] - 115s 3ms/step - loss: 0.0299 - acc: 0.9902 - val_loss: 0.0358 - val_acc: 0.9938\n",
      "Epoch 30/30\n",
      "37800/37800 [==============================] - 114s 3ms/step - loss: 0.0270 - acc: 0.9906 - val_loss: 0.0303 - val_acc: 0.9929\n"
     ]
    },
    {
     "data": {
      "text/plain": [
       "<keras.callbacks.History at 0x1b7486cfcf8>"
      ]
     },
     "execution_count": 6,
     "metadata": {},
     "output_type": "execute_result"
    }
   ],
   "source": [
    "#训练\n",
    "from keras.callbacks import TensorBoard\n",
    "from keras.callbacks import ModelCheckpoint\n",
    "\n",
    "num_epochs = 30\n",
    "BatchSize = 128\n",
    "#保存最好的模型\n",
    "tensorboard = TensorBoard(log_dir='log')\n",
    "checkpoint = ModelCheckpoint(filepath='best.h5',monitor='val_acc',mode='auto' ,save_best_only='True')\n",
    "callback_lists=[tensorboard,checkpoint]\n",
    "\n",
    "model.fit(X_train, y_train, epochs=num_epochs, batch_size=BatchSize,validation_split=0.1,callbacks=callback_lists)"
   ]
  },
  {
   "cell_type": "code",
   "execution_count": 7,
   "metadata": {},
   "outputs": [
    {
     "name": "stdout",
     "output_type": "stream",
     "text": [
      "Train on 37800 samples, validate on 4200 samples\n",
      "Epoch 1/20\n",
      "37800/37800 [==============================] - 140s 4ms/step - loss: 0.0328 - acc: 0.9897 - val_loss: 0.0395 - val_acc: 0.9929\n",
      "Epoch 2/20\n",
      "37800/37800 [==============================] - 163s 4ms/step - loss: 0.0327 - acc: 0.9897 - val_loss: 0.0424 - val_acc: 0.9907\n",
      "Epoch 3/20\n",
      "37800/37800 [==============================] - 140s 4ms/step - loss: 0.0332 - acc: 0.9890 - val_loss: 0.0382 - val_acc: 0.9926\n",
      "Epoch 4/20\n",
      "37800/37800 [==============================] - 151s 4ms/step - loss: 0.0317 - acc: 0.9902 - val_loss: 0.0378 - val_acc: 0.9943\n",
      "Epoch 5/20\n",
      "37800/37800 [==============================] - 143s 4ms/step - loss: 0.0301 - acc: 0.9901 - val_loss: 0.0331 - val_acc: 0.9933\n",
      "Epoch 6/20\n",
      "37800/37800 [==============================] - 136s 4ms/step - loss: 0.0295 - acc: 0.9908 - val_loss: 0.0370 - val_acc: 0.9924\n",
      "Epoch 7/20\n",
      "37800/37800 [==============================] - 140s 4ms/step - loss: 0.0286 - acc: 0.9912 - val_loss: 0.0341 - val_acc: 0.9931\n",
      "Epoch 8/20\n",
      "37800/37800 [==============================] - 146s 4ms/step - loss: 0.0283 - acc: 0.9905 - val_loss: 0.0346 - val_acc: 0.9931\n",
      "Epoch 9/20\n",
      "37800/37800 [==============================] - 138s 4ms/step - loss: 0.0281 - acc: 0.9911 - val_loss: 0.0298 - val_acc: 0.9936\n",
      "Epoch 10/20\n",
      "37800/37800 [==============================] - 134s 4ms/step - loss: 0.0268 - acc: 0.9917 - val_loss: 0.0307 - val_acc: 0.9940\n",
      "Epoch 11/20\n",
      "37800/37800 [==============================] - 140s 4ms/step - loss: 0.0258 - acc: 0.9916 - val_loss: 0.0342 - val_acc: 0.9924\n",
      "Epoch 12/20\n",
      "37800/37800 [==============================] - 140s 4ms/step - loss: 0.0270 - acc: 0.9911 - val_loss: 0.0298 - val_acc: 0.9945\n",
      "Epoch 13/20\n",
      "37800/37800 [==============================] - 150s 4ms/step - loss: 0.0258 - acc: 0.9916 - val_loss: 0.0301 - val_acc: 0.9926\n",
      "Epoch 14/20\n",
      "37800/37800 [==============================] - 137s 4ms/step - loss: 0.0261 - acc: 0.9909 - val_loss: 0.0268 - val_acc: 0.9936\n",
      "Epoch 15/20\n",
      "37800/37800 [==============================] - 134s 4ms/step - loss: 0.0249 - acc: 0.9919 - val_loss: 0.0297 - val_acc: 0.9931\n",
      "Epoch 16/20\n",
      "37800/37800 [==============================] - 138s 4ms/step - loss: 0.0276 - acc: 0.9912 - val_loss: 0.0293 - val_acc: 0.9943\n",
      "Epoch 17/20\n",
      "37800/37800 [==============================] - 140s 4ms/step - loss: 0.0235 - acc: 0.9919 - val_loss: 0.0265 - val_acc: 0.9931\n",
      "Epoch 18/20\n",
      "37800/37800 [==============================] - 137s 4ms/step - loss: 0.0230 - acc: 0.9929 - val_loss: 0.0266 - val_acc: 0.9948\n",
      "Epoch 19/20\n",
      "37800/37800 [==============================] - 135s 4ms/step - loss: 0.0254 - acc: 0.9925 - val_loss: 0.0290 - val_acc: 0.9948\n",
      "Epoch 20/20\n",
      "37800/37800 [==============================] - 141s 4ms/step - loss: 0.0237 - acc: 0.9922 - val_loss: 0.0301 - val_acc: 0.9940\n",
      "28000/28000 [==============================] - 28s 1ms/step\n",
      "   ImageId  Label\n",
      "0        1      2\n",
      "1        2      0\n",
      "2        3      9\n",
      "3        4      0\n",
      "4        5      3\n"
     ]
    }
   ],
   "source": [
    "from keras.models import load_model\n",
    "import pandas as pd\n",
    "#model = load_model('best.h5')\n",
    "#model.fit(X_train, y_train, epochs=20, batch_size=BatchSize,validation_split=0.1,callbacks=callback_lists)\n",
    "model = load_model('best.h5')\n",
    "y_pre = model.predict(X_test,verbose=1)\n",
    "y_output = np.argmax(y_pre,axis=1)\n",
    "\n",
    "sample = pd.read_csv('sample_submission.csv')\n",
    "index = sample['ImageId']\n",
    "\n",
    "output = pd.DataFrame()\n",
    "output['ImageId'] = index\n",
    "output['Label'] = y_output\n",
    "print(output.head())\n",
    "output.to_csv('result.csv',index=False)\n"
   ]
  },
  {
   "cell_type": "code",
   "execution_count": null,
   "metadata": {},
   "outputs": [],
   "source": []
  }
 ],
 "metadata": {
  "kernelspec": {
   "display_name": "Python 3",
   "language": "python",
   "name": "python3"
  },
  "language_info": {
   "codemirror_mode": {
    "name": "ipython",
    "version": 3
   },
   "file_extension": ".py",
   "mimetype": "text/x-python",
   "name": "python",
   "nbconvert_exporter": "python",
   "pygments_lexer": "ipython3",
   "version": "3.6.5"
  }
 },
 "nbformat": 4,
 "nbformat_minor": 2
}
